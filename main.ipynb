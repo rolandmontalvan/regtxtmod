{
 "cells": [
  {
   "cell_type": "code",
   "execution_count": 17,
   "id": "parental-example",
   "metadata": {},
   "outputs": [],
   "source": [
    "import pandas as pd\n",
    "import nltk, string, re, enchant\n",
    "from nltk.stem import PorterStemmer\n",
    "from nltk.stem import WordNetLemmatizer\n",
    "from autocorrect import Speller\n",
    "import re"
   ]
  },
  {
   "cell_type": "code",
   "execution_count": 48,
   "id": "conditional-difference",
   "metadata": {},
   "outputs": [],
   "source": [
    "synonymous = []\n",
    "\n",
    "# Loading synonymous for tagging\n",
    "with open('./synonymous.txt', 'r') as doc:\n",
    "    for i in doc.readlines():\n",
    "        words = i.split(',')\n",
    "        #words receive the result of re.sub, that scroll through the entire list\n",
    "        words = [re.sub('\\n', '', w) for w in words]\n",
    "        synonymous.append({'tag': words[0], 'words': words[1:]})\n",
    "        \n",
    "def word_text_dict(text):\n",
    "    \"\"\"\n",
    "        Receives a message\n",
    "        Returns the same tagged one\n",
    "    \"\"\"\n",
    "    \n",
    "    output = text\n",
    "    for s in synonymous:\n",
    "        #print(s)\n",
    "        for word in s['words']:\n",
    "            #output = output.replace(word, s['tag'].lower())\n",
    "            output = re.sub(word,s['tag'].lower(),output)\n",
    "            #print(output)\n",
    "    output = re.sub('[a-z]{5}$','', output)\n",
    "    return output"
   ]
  },
  {
   "cell_type": "code",
   "execution_count": 49,
   "id": "invalid-consent",
   "metadata": {},
   "outputs": [
    {
     "data": {
      "text/plain": [
       "'purchase a product and a product money'"
      ]
     },
     "execution_count": 49,
     "metadata": {},
     "output_type": "execute_result"
    }
   ],
   "source": [
    "word_text_dict('buy a laptop and a notebook USD')"
   ]
  }
 ],
 "metadata": {
  "kernelspec": {
   "display_name": "Python 3",
   "language": "python",
   "name": "python3"
  },
  "language_info": {
   "codemirror_mode": {
    "name": "ipython",
    "version": 3
   },
   "file_extension": ".py",
   "mimetype": "text/x-python",
   "name": "python",
   "nbconvert_exporter": "python",
   "pygments_lexer": "ipython3",
   "version": "3.8.5"
  }
 },
 "nbformat": 4,
 "nbformat_minor": 5
}
